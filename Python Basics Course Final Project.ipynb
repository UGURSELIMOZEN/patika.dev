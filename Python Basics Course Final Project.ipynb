{
 "cells": [
  {
   "cell_type": "markdown",
   "metadata": {
    "collapsed": true
   },
   "source": [
    "##  Final Project of Python Basics Course from patika.dev Data Science Path \n",
    "\n",
    "\n",
    "1. Write a function that flattens the given list, whose elements can also be multidimensional or nested lists.\n",
    "\n",
    "2. Write a function that reverse the given list, whose elements can also be multidimensional or nested lists.\n",
    "\n",
    "\n",
    "Author : Uğur Selim Özen"
   ]
  },
  {
   "cell_type": "code",
   "execution_count": 38,
   "metadata": {},
   "outputs": [
    {
     "name": "stdout",
     "output_type": "stream",
     "text": [
      "Original list is : [[1, 'a', ['cat'], 2], [[[3]], 'dog'], 4, 5]\n",
      "\n",
      "Flatten list is  : [1, 'a', 'cat', 2, 3, 'dog', 4, 5]\n",
      "\n",
      "\n",
      "Original list is : [[[23, 't'], 'a', [['cat'], 1, ['day', 1], (9, 6, 3, 8)], 2], [[[3], ['AI', 'ML']], 'dog'], {1, 2, 3}, range(0, 5)]\n",
      "\n",
      "Flatten list is  : [23, 't', 'a', 'cat', 1, 'day', 1, 9, 6, 3, 8, 2, 3, 'AI', 'ML', 'dog', 1, 2, 3, 0, 1, 2, 3, 4]\n"
     ]
    }
   ],
   "source": [
    "def flattenList(my_list):\n",
    "    if isinstance(my_list, (list,set,range,tuple)): # Here isinstance method checks if there any type of list , set ,tuple or range.\n",
    "        for nestedlist in my_list:                  # If exists any of them func. searchs all items of it until reachs to one single item in list with the\n",
    "            yield from flatten(nestedlist)          # help of yield from recursive function after that rewrite this one single item to same input list. \n",
    "    else:\n",
    "        yield my_list\n",
    "\n",
    "        \n",
    "#### Test Case 1 ####\n",
    "        \n",
    "input = [[1,'a',['cat'],2],[[[3]],'dog'],4,5]\n",
    "print(\"Original list is :\" , input)\n",
    "print(\"\\nFlatten list is  :\" , list(flattenList(input)))\n",
    "\n",
    "print(\"\\n\")\n",
    "\n",
    "#### Test Case 2 ####\n",
    "\n",
    "input = [[[23,'t'],'a',[['cat'],1,['day',1] ,(9,6,3,8)],2],[[[3],['AI','ML']],'dog'],set([1,2,3]) ,range(5)]\n",
    "print(\"Original list is :\" , input)\n",
    "print(\"\\nFlatten list is  :\" , list(flattenList(input)))"
   ]
  },
  {
   "cell_type": "code",
   "execution_count": 40,
   "metadata": {},
   "outputs": [
    {
     "name": "stdout",
     "output_type": "stream",
     "text": [
      "Original list is : [[1, 2], [3, 4], [5, 6, 7]]\n",
      "\n",
      "Reserved list is : [[7, 6, 5], [4, 3], [2, 1]]\n",
      "\n",
      "\n",
      "Original list is : [[12, 21], [0, 4, 5], [5, 2, 7, 15]]\n",
      "\n",
      "Reserved list is : [[15, 7, 2, 5], [5, 4, 0], [21, 12]]\n"
     ]
    }
   ],
   "source": [
    "def reversedList(my_list1):\n",
    "    my_list1 = my_list1[::-1]         # Firstly , I have reversed all items of mostouter list and then searched all items of it \n",
    "    my_list2 = []                     \n",
    "    for item in my_list1 :\n",
    "        if type(item) == list :      # If there exists nestedlist inside of it I have also reversed all items of nestedlist \n",
    "            item = item[::-1]     \n",
    "            my_list2.append(item)    # and then appended them step by step to new empty list.\n",
    "            \n",
    "    return my_list2\n",
    "\n",
    "##### Test Case 1 #####\n",
    "\n",
    "input = [[1,2],[3,4],[5,6,7]]\n",
    "print(\"Original list is :\" , input)\n",
    "print(\"\\nReserved list is :\" , reversedList(input))\n",
    "\n",
    "print(\"\\n\")\n",
    "##### Test Case 2 #####\n",
    "\n",
    "input = [[12,21],[0,4,5],[5,2,7 ,15]]\n",
    "print(\"Original list is :\" , input)\n",
    "print(\"\\nReserved list is :\" , reversedList(input))"
   ]
  }
 ],
 "metadata": {
  "kernelspec": {
   "display_name": "Python 3.7",
   "language": "python",
   "name": "python3"
  },
  "language_info": {
   "codemirror_mode": {
    "name": "ipython",
    "version": 3
   },
   "file_extension": ".py",
   "mimetype": "text/x-python",
   "name": "python",
   "nbconvert_exporter": "python",
   "pygments_lexer": "ipython3",
   "version": "3.7.10"
  }
 },
 "nbformat": 4,
 "nbformat_minor": 1
}
